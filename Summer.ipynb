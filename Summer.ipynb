{
 "cells": [
  {
   "cell_type": "markdown",
   "metadata": {},
   "source": [
    "# Summer Olympics Data Analysis Assignment"
   ]
  },
  {
   "cell_type": "markdown",
   "metadata": {},
   "source": [
    "### 1. In how many cities Summer Olympics is held so far?"
   ]
  },
  {
   "cell_type": "code",
   "execution_count": 1,
   "metadata": {
    "collapsed": true
   },
   "outputs": [
    {
     "name": "stdout",
     "output_type": "stream",
     "text": [
      "The Cities in which the Summer Olympics held so far are:\n",
      "Athens  :  2149\n",
      "Paris  :  1396\n",
      "St Louis  :  470\n",
      "London  :  3567\n",
      "Stockholm  :  885\n",
      "Antwerp  :  1298\n",
      "Amsterdam  :  710\n",
      "Los Angeles  :  2074\n",
      "Berlin  :  875\n",
      "Helsinki  :  889\n",
      "Melbourne / Stockholm  :  885\n",
      "Rome  :  882\n",
      "Tokyo  :  1010\n",
      "Mexico  :  1031\n",
      "Munich  :  1185\n",
      "Montreal  :  1305\n",
      "Moscow  :  1387\n",
      "Seoul  :  1546\n",
      "Barcelona  :  1705\n",
      "Atlanta  :  1859\n",
      "Sydney  :  2015\n",
      "Beijing  :  2042\n",
      "\n",
      "The number of cities in which Summer Olympics has been held so far : 22\n"
     ]
    }
   ],
   "source": [
    "import pandas as pd\n",
    "df = pd.read_csv(\"summer.csv\")\n",
    "count=0\n",
    "print(\"The Cities in which the Summer Olympics held so far are:\" )\n",
    "for city in df['City'].unique():\n",
    "    count+=1\n",
    "    print(city , \" : \" , len(df[df['City'] == city]))\n",
    "print(\"\\nThe number of cities in which Summer Olympics has been held so far :\",count)"
   ]
  },
  {
   "cell_type": "markdown",
   "metadata": {},
   "source": [
    "### 2. Which sport is having most number of Gold Medals so far? (Top 5)"
   ]
  },
  {
   "cell_type": "code",
   "execution_count": 6,
   "metadata": {
    "collapsed": true
   },
   "outputs": [
    {
     "name": "stdout",
     "output_type": "stream",
     "text": [
      "The Total number of GOLD Medals awarded so far :  31165\n",
      "\n",
      "Number of GOLD Medals awarded per Sport Criteria are as follows\n",
      "Aquatics  :  1421\n",
      "Athletics  :  1215\n",
      "Cycling  :  371\n",
      "Fencing  :  552\n",
      "Gymnastics  :  820\n",
      "Shooting  :  384\n",
      "Tennis  :  92\n",
      "Weightlifting  :  200\n",
      "Wrestling  :  391\n",
      "Archery  :  126\n",
      "Basque Pelota  :  2\n",
      "Cricket  :  12\n",
      "Croquet  :  4\n",
      "Equestrian  :  320\n",
      "Football  :  503\n",
      "Golf  :  13\n",
      "Polo  :  22\n",
      "Rowing  :  890\n",
      "Rugby  :  78\n",
      "Sailing  :  412\n",
      "Tug of War  :  36\n",
      "Boxing  :  239\n",
      "Lacrosse  :  28\n",
      "Roque  :  1\n",
      "Hockey  :  486\n",
      "Jeu de paume  :  1\n",
      "Rackets  :  3\n",
      "Skating  :  9\n",
      "Water Motorsports  :  5\n",
      "Modern Pentathlon  :  60\n",
      "Ice Hockey  :  8\n",
      "Basketball  :  342\n",
      "Canoe / Kayak  :  334\n",
      "Handball  :  321\n",
      "Judo  :  123\n",
      "Volleyball  :  332\n",
      "Table Tennis  :  46\n",
      "Badminton  :  46\n",
      "Baseball  :  111\n",
      "Softball  :  60\n",
      "Taekwondo  :  32\n",
      "Triathlon  :  8\n",
      "Canoe  :  27\n",
      "\n",
      "Top 5 SPORT with most number of Gold Medals\n",
      "[1421, 'Aquatics']\n",
      "[1215, 'Athletics']\n",
      "[890, 'Rowing']\n",
      "[820, 'Gymnastics']\n",
      "[552, 'Fencing']\n"
     ]
    },
    {
     "data": {
      "text/plain": [
       "<AxesSubplot:xlabel='Sport'>"
      ]
     },
     "execution_count": 6,
     "metadata": {},
     "output_type": "execute_result"
    },
    {
     "data": {
      "image/png": "[encoded data removed]",
      "text/plain": [
       "<Figure size 720x360 with 1 Axes>"
      ]
     },
     "metadata": {
      "needs_background": "light"
     },
     "output_type": "display_data"
    }
   ],
   "source": [
    "dataq2 = df.values\n",
    "data2 = []\n",
    "print(\"The Total number of GOLD Medals awarded so far : \",len(df['Medal'] == \"Gold\"))\n",
    "print(\"\\nNumber of GOLD Medals awarded per Sport Criteria are as follows\")\n",
    "for sport in df['Sport'].unique(): \n",
    "    gold_medals = 0\n",
    "    for i in range(len(dataq2)):\n",
    "        if (dataq2[i][2] == sport) and (dataq2[i][8] == \"Gold\") :\n",
    "            gold_medals += 1\n",
    "    data2.append([gold_medals,sport])\n",
    "    data2.sort(reverse = True)\n",
    "    print(sport, \" : \" ,gold_medals)\n",
    "print(\"\\nTop 5 SPORT with most number of Gold Medals\")\n",
    "for i in range(0,5):\n",
    "    print(data2[i])\n",
    "\n",
    "pd.DataFrame(data2,columns = [ gold_medals,'Sport']).sort_values(by= gold_medals, ascending=False).head().plot(x = 'Sport', y = gold_medals, kind = 'bar', figsize = (10,5))\n",
    "\n"
   ]
  },
  {
   "cell_type": "markdown",
   "metadata": {},
   "source": [
    "### 3. Which sport is having most number of medals so far? (Top 5)"
   ]
  },
  {
   "cell_type": "code",
   "execution_count": 3,
   "metadata": {
    "collapsed": true
   },
   "outputs": [
    {
     "name": "stdout",
     "output_type": "stream",
     "text": [
      "The Total number of Medals awarded so far :  31165\n",
      "\n",
      "Number of total Medals awarded per Sport Criteria are as follows\n",
      "Aquatics 4170\n",
      "Athletics 3638\n",
      "Cycling 1105\n",
      "Fencing 1613\n",
      "Gymnastics 2307\n",
      "Shooting 1150\n",
      "Tennis 296\n",
      "Weightlifting 593\n",
      "Wrestling 1212\n",
      "Archery 329\n",
      "Basque Pelota 4\n",
      "Cricket 24\n",
      "Croquet 8\n",
      "Equestrian 939\n",
      "Football 1497\n",
      "Golf 30\n",
      "Polo 66\n",
      "Rowing 2667\n",
      "Rugby 192\n",
      "Sailing 1109\n",
      "Tug of War 94\n",
      "Boxing 894\n",
      "Lacrosse 59\n",
      "Roque 3\n",
      "Hockey 1422\n",
      "Jeu de paume 3\n",
      "Rackets 10\n",
      "Skating 27\n",
      "Water Motorsports 5\n",
      "Modern Pentathlon 180\n",
      "Ice Hockey 27\n",
      "Basketball 1012\n",
      "Canoe / Kayak 1002\n",
      "Handball 973\n",
      "Judo 491\n",
      "Volleyball 994\n",
      "Table Tennis 144\n",
      "Badminton 144\n",
      "Baseball 335\n",
      "Softball 180\n",
      "Taekwondo 112\n",
      "Triathlon 24\n",
      "Canoe 81\n",
      "\n",
      "Top 5 SPORT with most number of  Medals\n",
      "[4170, 'Aquatics']\n",
      "[3638, 'Athletics']\n",
      "[2667, 'Rowing']\n",
      "[2307, 'Gymnastics']\n",
      "[1613, 'Fencing']\n"
     ]
    },
    {
     "data": {
      "text/plain": [
       "<AxesSubplot:xlabel='Sport'>"
      ]
     },
     "execution_count": 3,
     "metadata": {},
     "output_type": "execute_result"
    },
    {
     "data": {
      "image/png": "[encoded data removed]",
      "text/plain": [
       "<Figure size 720x360 with 1 Axes>"
      ]
     },
     "metadata": {
      "needs_background": "light"
     },
     "output_type": "display_data"
    }
   ],
   "source": [
    "dataq3 = df.values\n",
    "data3 = []\n",
    "print(\"The Total number of Medals awarded so far : \",len(df['Medal']))\n",
    "print(\"\\nNumber of total Medals awarded per Sport Criteria are as follows\")\n",
    "for sport in df['Sport'].unique(): \n",
    "    tot_medals = 0\n",
    "    for i in range(len(dataq3)):\n",
    "        if (dataq3[i][2] == sport) and ((dataq3[i][8] == \"Gold\") or (dataq3[i][8] == \"Silver\") or (dataq3[i][8] == \"Bronze\")) :\n",
    "            tot_medals += 1\n",
    "    data3.append([tot_medals,sport])\n",
    "    data3.sort(reverse = True)\n",
    "    print(sport,tot_medals)\n",
    "print(\"\\nTop 5 SPORT with most number of  Medals\")\n",
    "for i in range(0,5):\n",
    "    print(data3[i])\n",
    "\n",
    "pd.DataFrame(data3,columns = [ tot_medals,'Sport']).sort_values(by= tot_medals, ascending=False).head().plot(x = 'Sport', y = tot_medals, kind = 'bar', figsize = (10,5))\n",
    "\n"
   ]
  },
  {
   "cell_type": "markdown",
   "metadata": {},
   "source": [
    "### 4. Which player has won most number of medals? (Top 5)"
   ]
  },
  {
   "cell_type": "code",
   "execution_count": 4,
   "metadata": {
    "collapsed": true
   },
   "outputs": [
    {
     "name": "stdout",
     "output_type": "stream",
     "text": [
      "The Total number of Medals awarded so far :  31165\n",
      "\n",
      "Number of total Medals awarded per Sport Criteria are as follows\n",
      "\n",
      "Top 5 players with most number of  Medals\n",
      "[22, 'PHELPS, Michael']\n",
      "[18, 'LATYNINA, Larisa']\n",
      "[15, 'ANDRIANOV, Nikolay']\n",
      "[13, 'SHAKHLIN, Boris']\n",
      "[13, 'ONO, Takashi']\n"
     ]
    },
    {
     "data": {
      "text/plain": [
       "<AxesSubplot:xlabel='Sport'>"
      ]
     },
     "execution_count": 4,
     "metadata": {},
     "output_type": "execute_result"
    },
    {
     "data": {
      "image/png": "[encoded data removed]",
      "text/plain": [
       "<Figure size 720x360 with 1 Axes>"
      ]
     },
     "metadata": {
      "needs_background": "light"
     },
     "output_type": "display_data"
    }
   ],
   "source": [
    "dataq4 = df.values\n",
    "data4 = []\n",
    "print(\"The Total number of Medals awarded so far : \",len(df['Medal']))\n",
    "print(\"\\nNumber of total Medals awarded per Sport Criteria are as follows\")\n",
    "for player in df['Athlete'].unique(): \n",
    "    to_medals = 0\n",
    "    for i in range(len(dataq4)):\n",
    "        if (dataq4[i][4] == player) and ((dataq4[i][8] == \"Gold\") or (dataq4[i][8] == \"Silver\") or (dataq4[i][8] == \"Bronze\")) :\n",
    "            to_medals += 1\n",
    "    data4.append([to_medals,player])\n",
    "    data4.sort(reverse = True)\n",
    "    ##print(player,to_medals)\n",
    "print(\"\\nTop 5 players with most number of  Medals\")\n",
    "for i in range(0,5):\n",
    "    print(data4[i])\n",
    "\n",
    "pd.DataFrame(data4,columns = [ to_medals,'Sport']).sort_values(by= to_medals, ascending=False).head().plot(x = 'Sport', y = to_medals, kind = 'bar', figsize = (10,5))\n",
    "\n"
   ]
  },
  {
   "cell_type": "markdown",
   "metadata": {},
   "source": [
    "### 5. Which player has won most number Gold Medals of medals? (Top 5)"
   ]
  },
  {
   "cell_type": "code",
   "execution_count": 16,
   "metadata": {
    "collapsed": true
   },
   "outputs": [
    {
     "name": "stdout",
     "output_type": "stream",
     "text": [
      "The Total number of Medals awarded so far :  31165\n",
      "\n",
      "Number of total Medals awarded per Sport Criteria are as follows\n",
      "\n",
      "Top 5 players with most number of  Medals\n",
      "[18, 'PHELPS, Michael']\n",
      "[9, 'SPITZ, Mark']\n",
      "[9, 'NURMI, Paavo']\n",
      "[9, 'LEWIS, Carl']\n",
      "[9, 'LATYNINA, Larisa']\n"
     ]
    },
    {
     "data": {
      "text/plain": [
       "<AxesSubplot:xlabel='Sport'>"
      ]
     },
     "execution_count": 16,
     "metadata": {},
     "output_type": "execute_result"
    },
    {
     "data": {
      "image/png": "[encoded data removed]",
      "text/plain": [
       "<Figure size 720x360 with 1 Axes>"
      ]
     },
     "metadata": {
      "needs_background": "light"
     },
     "output_type": "display_data"
    },
    {
     "data": {
      "image/png": "[encoded data removed]",
      "text/plain": [
       "<Figure size 720x360 with 1 Axes>"
      ]
     },
     "metadata": {
      "needs_background": "light"
     },
     "output_type": "display_data"
    }
   ],
   "source": [
    "dataq5 = df.values\n",
    "data5 = []\n",
    "print(\"The Total number of Medals awarded so far : \",len(df['Medal']))\n",
    "print(\"\\nNumber of total Medals awarded per Sport Criteria are as follows\")\n",
    "for player in df['Athlete'].unique(): \n",
    "    to_medals = 0\n",
    "    for i in range(len(dataq4)):\n",
    "        if (dataq5[i][4] == player) and (dataq5[i][8] == \"Gold\"):\n",
    "            to_medals += 1\n",
    "    data5.append([to_medals,player])\n",
    "    data5.sort(reverse = True)\n",
    "    ##print(player,to_medals)\n",
    "print(\"\\nTop 5 players with most number of  Medals\")\n",
    "for i in range(0,5):\n",
    "    print(data5[i])\n",
    "\n",
    "que5 = pd.DataFrame(data5,columns = [ to_medals,'Sport']).sort_values(by= to_medals, ascending=False).head()\n",
    "que5.plot(x = 'Sport', y = to_medals, kind = 'bar', figsize = (10,5))\n",
    "que5.plot(x = 'Sport', y = to_medals, kind = 'line', figsize = (10,5))"
   ]
  },
  {
   "cell_type": "markdown",
   "metadata": {},
   "source": [
    "### 6. In which year India won first Gold Medal in Summer Olympics?"
   ]
  },
  {
   "cell_type": "code",
   "execution_count": 101,
   "metadata": {
    "collapsed": true
   },
   "outputs": [
    {
     "data": {
      "text/html": [
       "<div>\n",
       "<style scoped>\n",
       "    .dataframe tbody tr th:only-of-type {\n",
       "        vertical-align: middle;\n",
       "    }\n",
       "\n",
       "    .dataframe tbody tr th {\n",
       "        vertical-align: top;\n",
       "    }\n",
       "\n",
       "    .dataframe thead th {\n",
       "        text-align: right;\n",
       "    }\n",
       "</style>\n",
       "<table border=\"1\" class=\"dataframe\">\n",
       "  <thead>\n",
       "    <tr style=\"text-align: right;\">\n",
       "      <th></th>\n",
       "      <th>Year</th>\n",
       "      <th>Country</th>\n",
       "      <th>Medal</th>\n",
       "    </tr>\n",
       "  </thead>\n",
       "  <tbody>\n",
       "    <tr>\n",
       "      <th>0</th>\n",
       "      <td>1896</td>\n",
       "      <td>IND</td>\n",
       "      <td>Gold</td>\n",
       "    </tr>\n",
       "  </tbody>\n",
       "</table>\n",
       "</div>"
      ],
      "text/plain": [
       "   Year Country Medal\n",
       "0  1896     IND  Gold"
      ]
     },
     "execution_count": 101,
     "metadata": {},
     "output_type": "execute_result"
    }
   ],
   "source": [
    "data6 = []\n",
    "for Year in df['Year'].unique():\n",
    "    for Medal in df['Medal'].unique():\n",
    "        for Country in df['Country'].unique():\n",
    "            if(Country == 'IND'):\n",
    "                if(Medal == 'Gold'):\n",
    "                    data6.append([Year , Country , Medal])\n",
    "        \n",
    "data6 = pd.DataFrame(data6 , columns = ['Year' , 'Country' , 'Medal'])\n",
    "data6.sort_values('Year', ascending = True).head()\n",
    "data6.head(1)               \n",
    "    "
   ]
  },
  {
   "cell_type": "markdown",
   "metadata": {},
   "source": [
    "### 7. Which event is most popular in terms on number of players? (Top 5)"
   ]
  },
  {
   "cell_type": "code",
   "execution_count": 14,
   "metadata": {
    "collapsed": true
   },
   "outputs": [
    {
     "name": "stdout",
     "output_type": "stream",
     "text": [
      "The total number of Athlete's participated in summer olympics :  22762\n",
      "\n",
      "The top 5 most popular events in terms of number of players are as follows:\n",
      " \n",
      "[15159492, 'Wg 96 KG']\n",
      "[15136730, 'Wg 84 KG']\n",
      "[15113968, 'Wg 74 KG']\n",
      "[15091206, 'Wg 66 KG']\n",
      "[15068444, 'Wg 60 KG']\n"
     ]
    },
    {
     "data": {
      "text/plain": [
       "<AxesSubplot:xlabel='Event'>"
      ]
     },
     "execution_count": 14,
     "metadata": {},
     "output_type": "execute_result"
    },
    {
     "data": {
      "image/png": "[encoded data removed]",
      "text/plain": [
       "<Figure size 720x360 with 1 Axes>"
      ]
     },
     "metadata": {
      "needs_background": "light"
     },
     "output_type": "display_data"
    }
   ],
   "source": [
    "data7 = []\n",
    "totnum = 0\n",
    "print(\"The total number of Athlete's participated in summer olympics : \",len(df['Athlete'].unique()))\n",
    "for Event in df['Event'].unique():\n",
    "    for Athlete in df['Athlete'].unique():\n",
    "            totnum += 1\n",
    "    data7.append([totnum,Event])\n",
    "    data7.sort(reverse = True)\n",
    "print(\"\\nThe top 5 most popular events in terms of number of players are as follows:\\n \")\n",
    "for i in range(0,5):\n",
    "    print(data7[i])\n",
    "\n",
    "que7 = pd.DataFrame(data7,columns = [totnum , 'Event']).sort_values(by= totnum, ascending = False).head()\n",
    "que7.plot(x = 'Event', y = totnum , kind = 'bar', figsize = (10,5))\n",
    "que7.plot(x = 'Event', y = totnum , kind = 'line', figsize = (10,5)) ##line graph provided for understanding minute difference"
   ]
  },
  {
   "cell_type": "markdown",
   "metadata": {},
   "source": [
    "### 8. Which sport is having most female Gold Medalists? (Top 5)"
   ]
  },
  {
   "cell_type": "code",
   "execution_count": 15,
   "metadata": {
    "collapsed": true
   },
   "outputs": [
    {
     "name": "stdout",
     "output_type": "stream",
     "text": [
      "The overall Gold Medals so far: 31165\n",
      "\n",
      "The number of Gold medals in each criteria are:\n",
      "Aquatics  :  589\n",
      "Athletics  :  978\n",
      "Cycling  :  1023\n",
      "Fencing  :  1131\n",
      "Gymnastics  :  1399\n",
      "Shooting  :  1442\n",
      "Tennis  :  1480\n",
      "Weightlifting  :  1508\n",
      "Wrestling  :  1520\n",
      "Archery  :  1559\n",
      "Basque Pelota  :  1559\n",
      "Cricket  :  1559\n",
      "Croquet  :  1559\n",
      "Equestrian  :  1610\n",
      "Football  :  1696\n",
      "Golf  :  1697\n",
      "Polo  :  1697\n",
      "Rowing  :  1914\n",
      "Rugby  :  1914\n",
      "Sailing  :  1952\n",
      "Tug of War  :  1952\n",
      "Boxing  :  1955\n",
      "Lacrosse  :  1955\n",
      "Roque  :  1955\n",
      "Hockey  :  2099\n",
      "Jeu de paume  :  2099\n",
      "Rackets  :  2099\n",
      "Skating  :  2103\n",
      "Water Motorsports  :  2103\n",
      "Modern Pentathlon  :  2107\n",
      "Ice Hockey  :  2107\n",
      "Basketball  :  2227\n",
      "Canoe / Kayak  :  2303\n",
      "Handball  :  2445\n",
      "Judo  :  2487\n",
      "Volleyball  :  2653\n",
      "Table Tennis  :  2676\n",
      "Badminton  :  2699\n",
      "Baseball  :  2699\n",
      "Softball  :  2759\n",
      "Taekwondo  :  2775\n",
      "Triathlon  :  2779\n",
      "Canoe  :  2788\n",
      "[2788, 'Canoe']\n",
      "[2779, 'Triathlon']\n",
      "[2775, 'Taekwondo']\n",
      "[2759, 'Softball']\n",
      "[2699, 'Baseball']\n",
      "\n",
      "Total number who won GOLD Medals are: 2788\n"
     ]
    },
    {
     "data": {
      "text/plain": [
       "<AxesSubplot:xlabel='Sport'>"
      ]
     },
     "execution_count": 15,
     "metadata": {},
     "output_type": "execute_result"
    },
    {
     "data": {
      "image/png": "[encoded data removed]",
      "text/plain": [
       "<Figure size 720x360 with 1 Axes>"
      ]
     },
     "metadata": {
      "needs_background": "light"
     },
     "output_type": "display_data"
    }
   ],
   "source": [
    "dataq8 = df.values\n",
    "data8 = []\n",
    "g8_women = 0\n",
    "print(\"The overall Gold Medals so far:\",len(df['Medal'] == \"Gold\"))\n",
    "print(\"\\nThe number of Gold medals in each criteria are:\")\n",
    "for sport in df['Sport'].unique(): \n",
    "    g8_medals = 0\n",
    "    for i in range(len(dataq8)):\n",
    "        if (dataq8[i][2] == sport) and (dataq8[i][8] == \"Gold\") :\n",
    "            g8_medals += 1\n",
    "            if(dataq8[i][6] == \"Women\"):\n",
    "                g8_women+=1\n",
    "    data8.append([g8_women,sport])\n",
    "    data8.sort(reverse = True)\n",
    "    print(sport,\" : \",g8_women)\n",
    "for i in range(0,5):\n",
    "    print(data8[i])\n",
    "print(\"\\nTotal number who won GOLD Medals are:\", g8_women)\n",
    "\n",
    "que8 = pd.DataFrame( data8 , columns = [g8_women , 'Sport' ]).sort_values(by = g8_women, ascending=False).head()\n",
    "que8.plot(x ='Sport' , y = g8_women, kind = 'bar', figsize = (10,5))##line graph provided for understanding minute difference\n",
    "que8.plot(x ='Sport' , y = g8_women, kind = 'line', figsize = (10,5))"
   ]
  },
  {
   "cell_type": "code",
   "execution_count": null,
   "metadata": {},
   "outputs": [],
   "source": [
    "##Thank You"
   ]
  }
 ],
 "metadata": {
  "kernelspec": {
   "display_name": "Python 3",
   "language": "python",
   "name": "python3"
  },
  "language_info": {
   "codemirror_mode": {
    "name": "ipython",
    "version": 3
   },
   "file_extension": ".py",
   "mimetype": "text/x-python",
   "name": "python",
   "nbconvert_exporter": "python",
   "pygments_lexer": "ipython3",
   "version": "3.8.8"
  }
 },
 "nbformat": 4,
 "nbformat_minor": 2
}
